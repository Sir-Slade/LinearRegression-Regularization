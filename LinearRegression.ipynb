{
 "cells": [
  {
   "cell_type": "markdown",
   "metadata": {},
   "source": [
    "# Linear regression and Regularization"
   ]
  },
  {
   "cell_type": "markdown",
   "metadata": {},
   "source": [
    "In this notebook I intend to explore the concepts of linear regression and regularization that I have been reading lately so I can make sure I understand them completly\n",
    "\n",
    "The dataset I'll use will be the GeneralAdmisions dataset that I downloaded from Kaggle \n",
    "[Mohan S Acharya, Asfia Armaan, Aneeta S Antony : A Comparison of Regression Models for Prediction of Graduate Admissions, IEEE International Conference on Computational Intelligence in Data Science 2019] (https://www.kaggle.com/mohansacharya/graduate-admissions?select=Admission_Predict_Ver1.1.csv)"
   ]
  },
  {
   "cell_type": "code",
   "execution_count": 5,
   "metadata": {},
   "outputs": [],
   "source": [
    "import pandas as pd\n",
    "import numpy as np\n",
    "import seaborn as sns\n",
    "import matplotlib.pyplot as plt"
   ]
  },
  {
   "cell_type": "markdown",
   "metadata": {},
   "source": [
    "First I will read the data and grab a random sample of 8 datapoints from the dataset"
   ]
  },
  {
   "cell_type": "code",
   "execution_count": 6,
   "metadata": {},
   "outputs": [
    {
     "data": {
      "text/html": [
       "<div>\n",
       "<style scoped>\n",
       "    .dataframe tbody tr th:only-of-type {\n",
       "        vertical-align: middle;\n",
       "    }\n",
       "\n",
       "    .dataframe tbody tr th {\n",
       "        vertical-align: top;\n",
       "    }\n",
       "\n",
       "    .dataframe thead th {\n",
       "        text-align: right;\n",
       "    }\n",
       "</style>\n",
       "<table border=\"1\" class=\"dataframe\">\n",
       "  <thead>\n",
       "    <tr style=\"text-align: right;\">\n",
       "      <th></th>\n",
       "      <th>Serial No.</th>\n",
       "      <th>GRE Score</th>\n",
       "      <th>TOEFL Score</th>\n",
       "      <th>University Rating</th>\n",
       "      <th>SOP</th>\n",
       "      <th>LOR</th>\n",
       "      <th>CGPA</th>\n",
       "      <th>Research</th>\n",
       "      <th>Chance of Admit</th>\n",
       "    </tr>\n",
       "  </thead>\n",
       "  <tbody>\n",
       "    <tr>\n",
       "      <td>15</td>\n",
       "      <td>16</td>\n",
       "      <td>314</td>\n",
       "      <td>105</td>\n",
       "      <td>3</td>\n",
       "      <td>3.5</td>\n",
       "      <td>2.5</td>\n",
       "      <td>8.30</td>\n",
       "      <td>0</td>\n",
       "      <td>0.54</td>\n",
       "    </tr>\n",
       "    <tr>\n",
       "      <td>61</td>\n",
       "      <td>62</td>\n",
       "      <td>307</td>\n",
       "      <td>101</td>\n",
       "      <td>3</td>\n",
       "      <td>4.0</td>\n",
       "      <td>3.0</td>\n",
       "      <td>8.20</td>\n",
       "      <td>0</td>\n",
       "      <td>0.47</td>\n",
       "    </tr>\n",
       "    <tr>\n",
       "      <td>105</td>\n",
       "      <td>106</td>\n",
       "      <td>316</td>\n",
       "      <td>110</td>\n",
       "      <td>3</td>\n",
       "      <td>4.0</td>\n",
       "      <td>4.5</td>\n",
       "      <td>8.78</td>\n",
       "      <td>1</td>\n",
       "      <td>0.69</td>\n",
       "    </tr>\n",
       "    <tr>\n",
       "      <td>274</td>\n",
       "      <td>275</td>\n",
       "      <td>315</td>\n",
       "      <td>100</td>\n",
       "      <td>1</td>\n",
       "      <td>2.0</td>\n",
       "      <td>2.5</td>\n",
       "      <td>7.95</td>\n",
       "      <td>0</td>\n",
       "      <td>0.58</td>\n",
       "    </tr>\n",
       "    <tr>\n",
       "      <td>51</td>\n",
       "      <td>52</td>\n",
       "      <td>312</td>\n",
       "      <td>100</td>\n",
       "      <td>2</td>\n",
       "      <td>1.5</td>\n",
       "      <td>3.5</td>\n",
       "      <td>7.90</td>\n",
       "      <td>1</td>\n",
       "      <td>0.56</td>\n",
       "    </tr>\n",
       "    <tr>\n",
       "      <td>447</td>\n",
       "      <td>448</td>\n",
       "      <td>320</td>\n",
       "      <td>108</td>\n",
       "      <td>3</td>\n",
       "      <td>3.5</td>\n",
       "      <td>5.0</td>\n",
       "      <td>8.97</td>\n",
       "      <td>1</td>\n",
       "      <td>0.84</td>\n",
       "    </tr>\n",
       "    <tr>\n",
       "      <td>141</td>\n",
       "      <td>142</td>\n",
       "      <td>332</td>\n",
       "      <td>118</td>\n",
       "      <td>2</td>\n",
       "      <td>4.5</td>\n",
       "      <td>3.5</td>\n",
       "      <td>9.36</td>\n",
       "      <td>1</td>\n",
       "      <td>0.90</td>\n",
       "    </tr>\n",
       "    <tr>\n",
       "      <td>172</td>\n",
       "      <td>173</td>\n",
       "      <td>322</td>\n",
       "      <td>110</td>\n",
       "      <td>4</td>\n",
       "      <td>4.0</td>\n",
       "      <td>5.0</td>\n",
       "      <td>9.13</td>\n",
       "      <td>1</td>\n",
       "      <td>0.86</td>\n",
       "    </tr>\n",
       "  </tbody>\n",
       "</table>\n",
       "</div>"
      ],
      "text/plain": [
       "     Serial No.  GRE Score  TOEFL Score  University Rating  SOP  LOR   CGPA  \\\n",
       "15           16        314          105                  3  3.5   2.5  8.30   \n",
       "61           62        307          101                  3  4.0   3.0  8.20   \n",
       "105         106        316          110                  3  4.0   4.5  8.78   \n",
       "274         275        315          100                  1  2.0   2.5  7.95   \n",
       "51           52        312          100                  2  1.5   3.5  7.90   \n",
       "447         448        320          108                  3  3.5   5.0  8.97   \n",
       "141         142        332          118                  2  4.5   3.5  9.36   \n",
       "172         173        322          110                  4  4.0   5.0  9.13   \n",
       "\n",
       "     Research  Chance of Admit   \n",
       "15          0              0.54  \n",
       "61          0              0.47  \n",
       "105         1              0.69  \n",
       "274         0              0.58  \n",
       "51          1              0.56  \n",
       "447         1              0.84  \n",
       "141         1              0.90  \n",
       "172         1              0.86  "
      ]
     },
     "execution_count": 6,
     "metadata": {},
     "output_type": "execute_result"
    }
   ],
   "source": [
    "data = pd.read_csv(\"Admission_Predict_Ver1.1.csv\")\n",
    "data.sample(8)"
   ]
  },
  {
   "cell_type": "markdown",
   "metadata": {},
   "source": [
    "## Theory of Linear Regression\n",
    "\n",
    "For starters, I will explain what linear regression is to have clarity of what it means to use it.\n",
    "\n",
    "<u><b>Linear regression:</b></u> A prediction technique in which we fit a straight line (or plane/hyperplane if multiple variables are involved) to the data in order to make an prediction from an independent variable (predict the target from features).\n",
    "\n",
    "First I will try to predict the 'Chance of Admit' from a single variable in order to be able to visualize it in 2D. After that, I will apply the same process for 2 features. This process will be done by \"hand\", meaning I will try to arrive to the equations manually so I can then compare it to the sklearn linear regression method.\n",
    "\n",
    "After that is complete, I will use regularization to see how different it affects the data (more on regularization later)."
   ]
  },
  {
   "cell_type": "markdown",
   "metadata": {},
   "source": [
    "### Data exploration\n",
    "In order to apply linear regression to a single variable, I will first try to find a linear feature, ie. a feature that will allow me to observe the effects of linear regression. In order to find it, I will plot the correlation matrix (which shows us the linear correlation between each of the columns in the data set) and select the feature that is most correlated to 'Chance of Admit'."
   ]
  },
  {
   "cell_type": "code",
   "execution_count": 7,
   "metadata": {},
   "outputs": [
    {
     "data": {
      "text/plain": [
       "<matplotlib.axes._subplots.AxesSubplot at 0xa230948>"
      ]
     },
     "execution_count": 7,
     "metadata": {},
     "output_type": "execute_result"
    },
    {
     "data": {
      "image/png": "[encoded data removed]",
      "text/plain": [
       "<Figure size 432x288 with 2 Axes>"
      ]
     },
     "metadata": {
      "needs_background": "light"
     },
     "output_type": "display_data"
    }
   ],
   "source": [
    "sns.heatmap(data.corr(), annot=True)"
   ]
  },
  {
   "cell_type": "markdown",
   "metadata": {},
   "source": [
    "According to the heatmap, 'CGPA' is the feature that is most highly correlated to 'Chance of Admit' with a score of 0.88, so I will start with that one. I will use a scatter plot to see how 'CGPA' is related to 'Chance of Admit' at a data point level."
   ]
  },
  {
   "cell_type": "code",
   "execution_count": 8,
   "metadata": {},
   "outputs": [
    {
     "data": {
      "image/png": "[encoded data removed]",
      "text/plain": [
       "<Figure size 432x288 with 1 Axes>"
      ]
     },
     "metadata": {
      "needs_background": "light"
     },
     "output_type": "display_data"
    }
   ],
   "source": [
    "sns.scatterplot(x=data['CGPA'], y=data[\"Chance of Admit \"])\n",
    "plt.show()"
   ]
  },
  {
   "cell_type": "markdown",
   "metadata": {},
   "source": [
    "We can see that a nice straight line would fit up very wall against this data points"
   ]
  },
  {
   "cell_type": "markdown",
   "metadata": {},
   "source": [
    "## The Math\n",
    "\n",
    "First we need a loss function (the one that will tell us how far of the mark the prediction lies). I'll choose the least sum of squares as the loss function. This simply means that in order to determine how good a line fits the data, we square the distance from the y of each datapoint to the line, and sum each distance. This can be written in math as:<br><br>\n",
    "&emsp; $L(x) = \\sum _{i=1} ^{n} (\\hat{y}_{i} - y_{i})^{2}$<br><br>\n",
    "&emsp;&emsp;where:<br>\n",
    "&emsp;&emsp;&emsp;&emsp;$\\hat{y}_{i}$ = <i>target prediction of the ith point</i><br>\n",
    "&emsp;&emsp;&emsp;&emsp;$y_{i}$ = $f(x_{i})$ = <i>the prediction we will make using the x of the ith point</i><br>\n",
    "&emsp;&emsp;&emsp;&emsp;$n$ = <i>the number of datapoints in the dataset</i><br>\n",
    "\n",
    "This loss function can be used to quantify many different models by using a different $f(x)$ for each model. Since we are interested in fitting a line to the data, we will pick the line equation to be our f(x):<br><br>\n",
    "&emsp; $f(x) = ax + b$<br><br>\n",
    "&emsp;&emsp;where:<br>\n",
    "&emsp;&emsp;&emsp;&emsp;$a$ = <i>the slope of the function and, in case of logistic regression, the coefficient or weight that will be assigned to feature x</i><br>\n",
    "&emsp;&emsp;&emsp;&emsp;$x$ = <i>the value of the feature (which we get from the data)</i><br>\n",
    "&emsp;&emsp;&emsp;&emsp;$b$ = <i>the intercept of the function which is the value of y when x = 0 (or the height at which the point crosses the y axis). I remember someone also calling it the <b>bias</b> at uni</i><br>\n",
    "\n",
    "We need to find $a$ and $b$ since $f(x)$ is a general equation for all straight lines in 2 dimensions and $a$ and $b$ are the <u>parameters</u> that define the equation for an individual line. If we were to plug $f(x)$ inside the loss function with different parameters, ie. calculating the loss function for different lines, we would of course obtain different values of $L(x)$. However, the goal of linear regression is to obtain the loss value of just one line: the one that yields us the lowest value. And since each individual line is defined by the parameters $a$ and $b$, our task is to find the set of parameters $a$ and $b$ which gives us the lowest loss value out of all the possible lines. By taking a page of calculus, we know that when the first derivative of a function is equal to 0, we have found a minima or maxima. In this case, it is impossible to have a maxima, since there is no maximum loss value (the worst possible line would be a straight line for which all data points would have an infinite distance). So we are confident to say that if we can find parameters $a$ and $b$ such that make the first derivative of $L(x)$ equal to 0, we will find the equation for the line that fits best our data."
   ]
  },
  {
   "cell_type": "markdown",
   "metadata": {},
   "source": [
    "### How do we do it???\n",
    "\n",
    "Since there is more than one parameter that we need to find ($a$ and $b$), what we need to do is find the partial derivative of each parameter. This will gives us the necessary number of equations to solve (2 equations for 2 parameters, 3 equations for 3 parameters and so forth). So to start we have:<br><br>\n",
    "&emsp; $$L(x) = \\sum _{i=1} ^{n} (\\hat{y}_{i} - y_{i})^{2}$$<br><br>\n",
    "&emsp;which is the same as:<br><br>\n",
    "&emsp;(1.1) $L(x) = \\sum _{i=1} ^{n} (\\hat{y}_{i} - (ax_{i} + b))^{2}$<br><br>\n",
    "&emsp;Now we find the partial derivatives:<br><br>\n",
    "&emsp;(1.2) $\\frac{\\partial{L(x)}}{\\partial{a}} = \\sum _{i=1} ^{n} 2 (\\hat{y}_{i} - (ax_{i} + b)) (-x_{i})$&emsp;  <i>Note:</i>$\\frac{\\partial{y}}{\\partial{b}} = x_{i}$<br><br>\n",
    "&emsp;(1.3) $\\frac{\\partial{L(x)}}{\\partial{b}} = \\sum _{i=1} ^{n} 2 (\\hat{y}_{i} - (ax_{i} + b))$&emsp; <i>Note:</i>$\\frac{\\partial{y}}{\\partial{b}} = 1$<br><br>\n",
    "&emsp;Since we are looking for the lowest loss value, we will make the partial derivatives equal to 0:<br><br>\n",
    "&emsp;(1.4)$\\frac{\\partial{L(x)}}{\\partial{a}} = 0 = \\sum _{i=1} ^{n} (\\hat{y}_{i} - (ax_{i} + b))(x_{i})$&emsp;  <i>Note:</i> the 2 and the - sign from $x_{i}$ dissapeared because now the equation is equal to 0, so we can move them to the left side where they will divide 0, which results in 0<br><br>\n",
    "&emsp;(1.5)$\\frac{\\partial{L(x)}}{\\partial{b}} = 0 = \\sum _{i=1} ^{n} (\\hat{y}_{i} - (ax_{i} + b))$<br><br>\n",
    "&emsp;Now we just reduce the previous equations so we end up with a familiar form (at least for me XD):<br><br>\n",
    "&emsp;(1.6)&emsp;$$\\sum _{i=1} ^{n}\\hat{y}_{i}x_{i} = a\\sum _{i=1} ^{n}x_{i}^{2} + b\\sum _{i=1} ^{n}x_{i}$$<br><br>\n",
    "&emsp;(1.7)&emsp;$$ \\sum _{i=1} ^{n} \\hat{y}_{i} = a\\sum _{i=1} ^{n}x_{i} + b\\sum _{i=1} ^{n}1$$<br><br>\n",
    "\n",
    "This is just a system of 2 equations with 2 variables ($a$ and $b$) that can be solved by any conventional methods. Next I will show the results to which I arrived in my physical notebook."
   ]
  },
  {
   "cell_type": "markdown",
   "metadata": {},
   "source": [
    "<b>Solutions to the equations</b><br><br>\n",
    "I will solve this system of equations by substitution (there are other ways, like determinants, but to be honest substitution is the one I remember the most and since this is just for educational purposes I'd rather understand what I am doing).<br><br>\n",
    "&emsp;The first step is try to isolate one of the variables ($b$) from one of the equations (1.7):<br><br>\n",
    "&emsp;(1.8)&emsp;$n\\hat{\\bar{y}} = an\\bar{x} + nb$&emsp; <i>Note:</i> This is possible because $\\bar{x} = \\sum _{i=1} ^{n} \\frac{x_{i}}{n}$ by definition (the expected value) and $\\sum _{i=1} ^{n} 1 = n$ (sum 1 n times)<br><br>\n",
    "&emsp;Then we just isolate $b$ and we have:<br><br>\n",
    "&emsp;(1.9)&emsp;$$b=\\hat{\\bar{y}} - a\\bar{x}$$<br><br>\n",
    "&emsp;The next step is to substitute the isolated variable ($b$) in the other equation (1.6):<br><br>\n",
    "&emsp;(1.10)&emsp;$\\sum _{i=1} ^{n} x_{i}y_{i} = a \\sum _{i=1}^{n} x_{i}^{2} + (\\hat{\\bar{y}} - a\\bar{x})\\sum _{i=1} ^{n} x_{i}$<br><br>\n",
    "&emsp;(1.11)&emsp;$\\sum _{i=1} ^{n} x_{i}y_{i} = a \\sum _{i=1}^{n} x_{i}^{2} + (\\hat{\\bar{y}} - a\\bar{x}) n\\bar{x}$<br><br>\n",
    "&emsp;(1.12)&emsp;$\\sum _{i=1} ^{n} x_{i}y_{i} = a \\sum _{i=1}^{n} x_{i}^{2} + n\\bar{x}\\hat{\\bar{y}} - an\\bar{x}^{2} $<br><br>\n",
    "&emsp;(1.13)&emsp;$\\sum _{i=1} ^{n} x_{i}y_{i} - n\\bar{x}\\hat{\\bar{y}} = a \\sum _{i=1}^{n} x_{i}^{2} - an\\bar{x}^{2} $<br><br>\n",
    "&emsp;(1.14)&emsp;$$a = \\frac{\\sum _{i=1} ^{n} x_{i}y_{i} - n\\bar{x}\\hat{\\bar{y}}} {\\sum _{i=1}^{n} x_{i}^{2} - n\\bar{x}^{2}}$$<br><br>\n",
    "&emsp;Or if we don't want to use expected values:<br><br>\n",
    "&emsp;(1.15)&emsp;$a = \\frac{\\sum _{i=1} ^{n} x_{i}y_{i} - n(\\sum _{i=1}^{n}\\frac{x_{i}}{n})(\\sum _{i=1}^{n} \\frac{\\hat{y_{i}}}{n})} {\\sum _{i=1}^{n} x_{i}^{2} - n(\\sum _{i=1}^{n}\\frac{x_{i}}{n})^{2}}$<br><br>\n",
    "&emsp;(1.16)&emsp;$a = \\frac{\\sum _{i=1} ^{n} x_{i}y_{i} - \\frac{\\sum _{i=1}^{n}x_{i}\\sum _{i=1}^{n} \\hat{y_{i}}}{n}} {\\sum _{i=1}^{n} x_{i}^{2} - \\frac{(\\sum _{i=1}^{n}x_{i})^{2}}{n}}$<br><br>\n",
    "&emsp;(1.17)&emsp;$$a = \\frac{n\\sum _{i=1} ^{n} x_{i}y_{i} - \\sum _{i=1}^{n}x_{i}\\sum _{i=1}^{n} \\hat{y_{i}}} {n\\sum _{i=1}^{n} x_{i}^{2} - (\\sum _{i=1}^{n}x_{i})^{2}}$$<br><br>\n",
    "&emsp;And finally, to arrive to the simplest form (from 1.14):<br><br>\n",
    "&emsp;(1.18)&emsp;$a = \\frac{\\sum _{i=1} ^{n} x_{i}y_{i} - n\\bar{x}\\hat{\\bar{y}} - n\\bar{x}\\hat{\\bar{y}} + n\\bar{x}\\hat{\\bar{y}}} {\\sum _{i=1}^{n} x_{i}^{2} -2 n\\bar{x}^{2} + n\\bar{x}^{2}}$&emsp; <i>Note:</i> We just add and substract the last term to create a double term<br><br>\n",
    "&emsp;(1.19)&emsp;$a = \\frac{\\sum _{i=1} ^{n} x_{i}y_{i} - \\bar{x}\\sum _{i=1}^{n} \\hat{y_{i}} - \\hat{\\bar{y}}\\sum _{i=1}^{n} x_{i} + \\sum _{i=1}^{n} \\bar{x}\\hat{\\bar{y}}} {\\sum _{i=1}^{n} x_{i}^{2} - 2 \\bar{x} \\sum _{i=1}^{n} x_{i} + \\sum _{i=1}^{n}{\\bar{x}}^{2}}$<i>Note:</i> We get rid of expected values and bring the sums again<br><br>\n",
    "&emsp;(1.20)&emsp;$a = \\frac{\\sum _{i=1} ^{n} (x_{i}y_{i} - \\bar{x}\\hat{y_{i}} - \\hat{\\bar{y}}x_{i}+ \\bar{x}\\hat{\\bar{y}})} {\\sum _{i=1}^{n}( x_{i}^{2} - 2 \\bar{x} x_{i} + {\\bar{x}}^{2})}$<i>Note:</i> We put all of the terms inside of a sum to end up with polinomials that can be factored out<br><br>\n",
    "&emsp;After doing some factor algebra (diferencia de cuadrados, factor comun, etc.) we end up with the simplest form:<br><br>\n",
    "&emsp;(1.21)&emsp;$$a = \\frac{\\sum _{i=1} ^{n} (x_{i} - \\bar{x})(\\hat{y_{i}} - \\hat{\\bar{y}})} {\\sum _{i=1}^{n}(x_{i} - \\bar{x})^{2}}$$\n"
   ]
  },
  {
   "cell_type": "markdown",
   "metadata": {},
   "source": [
    "### Experiments\n",
    "\n",
    "In the following cells, I will calculate the values of $a$ and $b$ using the 3 different equations from above to see if they are really the same value. Afterwards, I will use the coeficients to create the line that will predict the value"
   ]
  },
  {
   "cell_type": "code",
   "execution_count": 9,
   "metadata": {},
   "outputs": [],
   "source": [
    "def predict(x):\n",
    "    return a*x + b\n",
    "\n",
    "def error(y, preds):    \n",
    "    return ((y - preds) ** 2).sum()    \n"
   ]
  },
  {
   "cell_type": "code",
   "execution_count": 10,
   "metadata": {},
   "outputs": [],
   "source": [
    "x = data[\"CGPA\"]\n",
    "y = data[\"Chance of Admit \"]"
   ]
  },
  {
   "cell_type": "code",
   "execution_count": 11,
   "metadata": {},
   "outputs": [
    {
     "name": "stdout",
     "output_type": "stream",
     "text": [
      "a: 0.2059216789133165 b: -1.0443349238993254\n"
     ]
    },
    {
     "data": {
      "text/plain": [
       "2.200285078259776"
      ]
     },
     "execution_count": 11,
     "metadata": {},
     "output_type": "execute_result"
    }
   ],
   "source": [
    "#Using equation 1.14 (and .sum() because it is better if it is a numpy array)\n",
    "a = ((x * y).sum() - len(x) * x.mean() * y.mean())/((x**2).sum() - len(x)*(x.mean() ** 2))\n",
    "b = y.mean() - a*x.mean()\n",
    "print(\"a:\",a,\"b:\",b)\n",
    "preds = predict(x)\n",
    "error(y, preds)"
   ]
  },
  {
   "cell_type": "code",
   "execution_count": 12,
   "metadata": {},
   "outputs": [
    {
     "name": "stdout",
     "output_type": "stream",
     "text": [
      "a: 0.20592167891326674 b: -1.0443349238988984\n"
     ]
    },
    {
     "data": {
      "text/plain": [
       "2.2002850782597765"
      ]
     },
     "execution_count": 12,
     "metadata": {},
     "output_type": "execute_result"
    }
   ],
   "source": [
    "#Using equation 1.17\n",
    "a = (len(x)*(x*y).sum() - x.sum() * y.sum())/(len(x) * (x**2).sum() - (x.sum())**2)\n",
    "b = y.mean() - a*x.mean()\n",
    "print(\"a:\",a,\"b:\",b)\n",
    "preds = predict(x)\n",
    "error(y, preds)"
   ]
  },
  {
   "cell_type": "code",
   "execution_count": 13,
   "metadata": {},
   "outputs": [
    {
     "name": "stdout",
     "output_type": "stream",
     "text": [
      "a: 0.20592167891328325 b: -1.04433492389904\n"
     ]
    },
    {
     "data": {
      "text/plain": [
       "2.2002850782597756"
      ]
     },
     "execution_count": 13,
     "metadata": {},
     "output_type": "execute_result"
    }
   ],
   "source": [
    "#Using equation 1.21\n",
    "a = ((x - x.mean()) * (y - y.mean())).sum() / ((x-x.mean())**2).sum()\n",
    "b = y.mean() - a*x.mean()\n",
    "print(\"a:\",a,\"b:\",b)\n",
    "preds = predict(x)\n",
    "error(y, preds)"
   ]
  },
  {
   "cell_type": "code",
   "execution_count": 14,
   "metadata": {},
   "outputs": [
    {
     "data": {
      "image/png": "[encoded data removed]",
      "text/plain": [
       "<Figure size 432x288 with 1 Axes>"
      ]
     },
     "metadata": {
      "needs_background": "light"
     },
     "output_type": "display_data"
    }
   ],
   "source": [
    "sns.scatterplot(x=x, y=y)\n",
    "plt.plot(x,preds, \"-r\")\n",
    "plt.show()"
   ]
  },
  {
   "cell_type": "markdown",
   "metadata": {},
   "source": [
    "We can see that the variation in values is actually very small (I suspect the culprit is the precision in python when dealing with squares and such. So for the next part, I will keep the results of formula 1.21 (which shouldnt make much difference from the other ones)."
   ]
  },
  {
   "cell_type": "markdown",
   "metadata": {},
   "source": [
    "Now I will compare the values with the scikit-learn linear regression to see how well I calculated the coefficients and the predictions"
   ]
  },
  {
   "cell_type": "code",
   "execution_count": 15,
   "metadata": {},
   "outputs": [
    {
     "name": "stdout",
     "output_type": "stream",
     "text": [
      "0.2059216789132833 -1.0443349238990391\n"
     ]
    },
    {
     "data": {
      "text/plain": [
       "0.004400570156519552"
      ]
     },
     "execution_count": 15,
     "metadata": {},
     "output_type": "execute_result"
    }
   ],
   "source": [
    "from sklearn.linear_model import LinearRegression\n",
    "from sklearn.metrics import mean_squared_error\n",
    "lr_sk = LinearRegression()\n",
    "lr_sk.fit(x.values.reshape(-1,1), y)\n",
    "print(*lr_sk.coef_, lr_sk.intercept_)\n",
    "preds = lr_sk.predict(x.values.reshape(-1,1))\n",
    "error(y, preds) / len(x) #which is the same as mean squared error (I tested it)"
   ]
  },
  {
   "cell_type": "markdown",
   "metadata": {},
   "source": [
    "As we can see, the coefficients and the intercept are the same as the last $a$ and $b$. The predictions are also the same so it is safe to say that I have replicated linear regression with one variable."
   ]
  },
  {
   "cell_type": "markdown",
   "metadata": {},
   "source": [
    "### $R^{2}$"
   ]
  },
  {
   "cell_type": "markdown",
   "metadata": {},
   "source": [
    "The next thing to be done is to calculate the $R^{2}$ value to see for how much variation CGPA accounts for according to our loss function. The value of $R^{2}$ is given from the following equation:<br><br>\n",
    "&emsp;(1.22)$R^{2} = \\frac{VAR(mean(x)) - VAR(fit(x))}{VAR(mean(x))}$<br><br>\n",
    "&emsp;where:<br>\n",
    "&emsp;&emsp;$VAR(f(x)) = \\frac{L(f(x))}{n}$ which in this experiment $L(x)$ is the least sum of squares<br>\n",
    "&emsp;&emsp;$mean(x) = $ the mean value of all target predictions which is $\\frac{\\sum _{i=1} ^{n} x_{i}}{n}$<br>\n",
    "&emsp;&emsp;$fit(x) = $ the function that we are using to predict the target (in this case $ax_{i} + b$)<br>\n"
   ]
  },
  {
   "cell_type": "code",
   "execution_count": 16,
   "metadata": {},
   "outputs": [],
   "source": [
    "def r_sq(x, y):\n",
    "    return (((y - y.mean())**2).sum() - ((y - (a*x + b))**2).sum()) / ((y - y.mean())**2).sum() "
   ]
  },
  {
   "cell_type": "code",
   "execution_count": 17,
   "metadata": {},
   "outputs": [
    {
     "data": {
      "text/plain": [
       "0.7786519523497211"
      ]
     },
     "execution_count": 17,
     "metadata": {},
     "output_type": "execute_result"
    }
   ],
   "source": [
    "r_sq(x, y)"
   ]
  },
  {
   "cell_type": "markdown",
   "metadata": {},
   "source": [
    "In the next 2 cells, I will use the scikit-learn metric and the linear regression model score to see how they are compared to my function"
   ]
  },
  {
   "cell_type": "code",
   "execution_count": 18,
   "metadata": {},
   "outputs": [
    {
     "data": {
      "text/plain": [
       "0.778651952349721"
      ]
     },
     "execution_count": 18,
     "metadata": {},
     "output_type": "execute_result"
    }
   ],
   "source": [
    "from sklearn.metrics import r2_score\n",
    "r2_score(y, preds)"
   ]
  },
  {
   "cell_type": "code",
   "execution_count": 19,
   "metadata": {},
   "outputs": [
    {
     "data": {
      "text/plain": [
       "0.778651952349721"
      ]
     },
     "execution_count": 19,
     "metadata": {},
     "output_type": "execute_result"
    }
   ],
   "source": [
    "lr_sk.score(x.values.reshape(-1,1), y)"
   ]
  },
  {
   "cell_type": "markdown",
   "metadata": {},
   "source": [
    "As we can see, the values are identical, which means I also suceeding in implementing the $R^{2}$ metric. The next step will be applying these 2 concepts (linear regression and $R^{2}$) with more than one variable"
   ]
  },
  {
   "cell_type": "markdown",
   "metadata": {},
   "source": [
    "### Linear regression with 2 variables plus intercept\n",
    "\n",
    "To test how linear regression is affected (or not) by different attributes in the dataset, I will fit a line to 1 more feature in the dataset, and then I fit a line to the combination of all 2. I will follow the same process that I did for 1 variable (obtaining the partial derivative of each parameter to be found) but because of space, I will limit myself to just write the equations for different parameters."
   ]
  },
  {
   "cell_type": "markdown",
   "metadata": {},
   "source": [
    "&emsp;(2.1)&emsp;$$b= \\hat{\\bar{y_i}} - a_{0}\\bar{x_{0}} - a_{1}\\bar{x_{1}}$$<br><br>\n",
    "&emsp;(2.2)&emsp;$$a_{1} = \\frac{\\sum _{i=1}^{n} (x_{1} - \\bar{x_{1}})(\\hat{y} - \\hat{\\bar{y_i}}) - a_0 \\sum _{i=1} ^{n} (x_0 - \\bar{x_0})(x_1 - \\bar{x_1})}{\\sum _{i=1}^n(x_1 - \\bar{x_1})^2}$$\n",
    "&emsp;(2.3)&emsp;$$a_0 = \\frac{\\sum _{i=1}^n x_0\\hat{y_i} - \\sum _{i=1}^n(x_1-\\bar{x_1})(\\hat{y}-\\hat{\\bar{y}})-\\hat{y}\\sum _{i=1}^n(x_1-\\bar{x_1})^2 + n\\bar{x_0}\\sum _{i=1}^n(x_1-\\bar{x_1})(\\hat{y}-\\hat{\\bar{y}})}{(\\sum _{i=1}^n x_0^2)(\\sum _{i=1}^n (x_1-\\bar{x_1})^2)-\\sum_{i=1}^n x_0x_1 + n\\bar{x_0}\\bar{x_1} - \\bar{x_0}\\sum _{i=1}^n(x_1-\\bar{x_1})^2-n\\bar{x_0}\\sum _{i=1}^n x_0x_1 + n^2\\bar{x_0}^2\\bar{x_1}}$$"
   ]
  },
  {
   "cell_type": "code",
   "execution_count": 50,
   "metadata": {},
   "outputs": [],
   "source": [
    "def get_a0(x0, x1, y):\n",
    "    n = len(y)\n",
    "    exp_x0 = x0.mean()\n",
    "    exp_x1 = x1.mean()\n",
    "    exp_y = y.mean()\n",
    "    numerator = ((x0 * y)+ ((x1 - exp_x1) * (y - exp_y)) - exp_y * ((x1 - exp_x1)**2) + n*exp_x0*((x1 - exp_x1) * (y - exp_y))).sum()\n",
    "    denominator = (x0 ** 2).sum() * ((x1 - exp_x1) ** 2).sum() - (x0*x1).sum() + n*exp_x0*exp_x1 - exp_x0 * ((x1 - exp_x1)**2).sum() - n *exp_x0 * (x0*x1).sum() + (n**2)*(exp_x0**2)*exp_x1\n",
    "    \n",
    "    return numerator / denominator\n",
    "\n",
    "def get_a1(x0, x1, y, a0):\n",
    "    n = len(y)\n",
    "    exp_x0 = x0.mean()\n",
    "    exp_x1 = x1.mean()\n",
    "    exp_y = y.mean()\n",
    "    \n",
    "    numerator = ((x1 - exp_x1) * (y - exp_y)).sum() - a0 * ((x0 - exp_x0) * (x1 - exp_x1)).sum()\n",
    "    denominator = ((x1 - exp_x1)**2).sum()\n",
    "    \n",
    "    return numerator / denominator\n",
    "\n",
    "def get_b(x0, x1, y, a0, a1):\n",
    "    return y.mean() - a0*x0.mean() - a1*x1.mean()\n",
    "    "
   ]
  },
  {
   "cell_type": "code",
   "execution_count": 51,
   "metadata": {},
   "outputs": [],
   "source": [
    "x0 = data[\"CGPA\"]\n",
    "x1 = data[\"GRE Score\"]\n",
    "y = data[\"Chance of Admit \"]"
   ]
  },
  {
   "cell_type": "code",
   "execution_count": 53,
   "metadata": {},
   "outputs": [
    {
     "name": "stdout",
     "output_type": "stream",
     "text": [
      "a0: 0.1564639738347355 a1: 0.0032066172267026555 b: -1.6349684507242226\n"
     ]
    }
   ],
   "source": [
    "a0 = 0.1564639738347355 #Note: I use the value from the linear regression model since the equation value is wrong. The other values are good so it is just my algebra\n",
    "a1 = get_a1(x0, x1, y, a0)\n",
    "b = get_b(x0, x1, y, a0, a1)\n",
    "print(\"a0:\", a0, \"a1:\", a1, \"b:\", b)"
   ]
  },
  {
   "cell_type": "code",
   "execution_count": 24,
   "metadata": {},
   "outputs": [
    {
     "name": "stdout",
     "output_type": "stream",
     "text": [
      "0.1564639738347355 0.0032066172267026577 -1.6349684507242217\n"
     ]
    }
   ],
   "source": [
    "lr_2vars = LinearRegression()\n",
    "lr_2vars.fit(data[[\"CGPA\", \"GRE Score\"]], y)\n",
    "print(*lr_2vars.coef_, lr_2vars.intercept_)"
   ]
  },
  {
   "cell_type": "markdown",
   "metadata": {},
   "source": [
    "## Regularization\n",
    "### Ridge regression"
   ]
  },
  {
   "cell_type": "code",
   "execution_count": 41,
   "metadata": {},
   "outputs": [
    {
     "name": "stdout",
     "output_type": "stream",
     "text": [
      "0.14638515565006252 0.003652099956732179 -1.6895108818303677\n"
     ]
    }
   ],
   "source": [
    "from sklearn.linear_model import Ridge\n",
    "ridge = Ridge(alpha=4) #Or the lambda\n",
    "ridge.fit(data[[\"CGPA\", \"GRE Score\"]], y)\n",
    "print(*ridge.coef_, ridge.intercept_)"
   ]
  },
  {
   "cell_type": "code",
   "execution_count": null,
   "metadata": {},
   "outputs": [],
   "source": [
    "ridge."
   ]
  }
 ],
 "metadata": {
  "kernelspec": {
   "display_name": "Python 3",
   "language": "python",
   "name": "python3"
  },
  "language_info": {
   "codemirror_mode": {
    "name": "ipython",
    "version": 3
   },
   "file_extension": ".py",
   "mimetype": "text/x-python",
   "name": "python",
   "nbconvert_exporter": "python",
   "pygments_lexer": "ipython3",
   "version": "3.7.4"
  }
 },
 "nbformat": 4,
 "nbformat_minor": 4
}
